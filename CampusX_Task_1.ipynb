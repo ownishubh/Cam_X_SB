{
  "nbformat": 4,
  "nbformat_minor": 0,
  "metadata": {
    "colab": {
      "provenance": [],
      "include_colab_link": true
    },
    "kernelspec": {
      "name": "python3",
      "display_name": "Python 3"
    },
    "language_info": {
      "name": "python"
    }
  },
  "cells": [
    {
      "cell_type": "markdown",
      "metadata": {
        "id": "view-in-github",
        "colab_type": "text"
      },
      "source": [
        "<a href=\"https://colab.research.google.com/github/ownishubh/CampusX/blob/main/CampusX_Task_1.ipynb\" target=\"_parent\"><img src=\"https://colab.research.google.com/assets/colab-badge.svg\" alt=\"Open In Colab\"/></a>"
      ]
    },
    {
      "cell_type": "markdown",
      "source": [
        "# Task : Session 1\n",
        "Solve these questions own your own and try to test yourself what you have learned in the session.\n",
        "\n",
        "Happy Learning!"
      ],
      "metadata": {
        "id": "A05OG15VqOPF"
      }
    },
    {
      "cell_type": "markdown",
      "source": [
        "### Q1 :- Print the given strings as per stated format.\n",
        "\n",
        "**Given strings**:\n",
        "```\n",
        "\"Data\" \"Science\" \"Mentorship\" \"Program\"\n",
        "\"By\" \"CampusX\"\n",
        "```\n",
        "**Output**:\n",
        "```\n",
        "Data-Science-Mentorship-Program-started-By-CampusX\n",
        "```\n",
        "\n",
        "Concept- [Seperator and End]"
      ],
      "metadata": {
        "id": "2doIXf8bqe9_"
      }
    },
    {
      "cell_type": "code",
      "source": [
        "# Write your code here\n",
        "print(\"Data\", \"Science\", \"Mentorship\", \"Program\" , sep = '-', end = '-started-')\n",
        "print(\"By\", \"CampusX\", sep = '-')"
      ],
      "metadata": {
        "id": "-em6d3KErDtp",
        "outputId": "38ef3701-96dd-4de9-ad13-a8069bf37a9d",
        "colab": {
          "base_uri": "https://localhost:8080/"
        }
      },
      "execution_count": null,
      "outputs": [
        {
          "output_type": "stream",
          "name": "stdout",
          "text": [
            "Data-Science-Mentorship-Program-started-By-CampusX\n"
          ]
        }
      ]
    },
    {
      "cell_type": "markdown",
      "source": [
        "### Q2:- Write a program that will convert celsius value to fahrenheit."
      ],
      "metadata": {
        "id": "1KUpN7ZTrC3_"
      }
    },
    {
      "cell_type": "code",
      "source": [
        "# Write your code here\n",
        "c = int(input(\"Enter the temperature in celcius :\"))\n",
        "f = 9/5 * c + 32\n",
        "print(f)"
      ],
      "metadata": {
        "id": "yxKYhYQiqWfj",
        "outputId": "2be3e712-5a67-4131-af20-bd715b9f81a4",
        "colab": {
          "base_uri": "https://localhost:8080/"
        }
      },
      "execution_count": null,
      "outputs": [
        {
          "output_type": "stream",
          "name": "stdout",
          "text": [
            "Enter the temperature in celcius :100\n",
            "212.0\n"
          ]
        }
      ]
    },
    {
      "cell_type": "markdown",
      "source": [
        "### Q3:- Take 2 numbers as input from the user.Write a program to swap the numbers without using any special python syntax."
      ],
      "metadata": {
        "id": "RLrOBBJurLB2"
      }
    },
    {
      "cell_type": "code",
      "source": [
        "# Write your code here\n",
        "num1 = int(input(\"Enter the first number :\"))\n",
        "num2 = int(input(\"Enter the second number :\"))\n",
        "num2 = num1 + num2\n",
        "num1 = num2 - num1\n",
        "num2 = num2 - num1\n",
        "\n",
        "print(\"num1 = \", num1)\n",
        "print(\"num2 = \", num2)"
      ],
      "metadata": {
        "id": "yPn7if0TrJ4F",
        "outputId": "38de7e11-8810-4317-c0c4-383cca641ca1",
        "colab": {
          "base_uri": "https://localhost:8080/"
        }
      },
      "execution_count": null,
      "outputs": [
        {
          "output_type": "stream",
          "name": "stdout",
          "text": [
            "Enter the first number :5\n",
            "Enter the second number :6\n",
            "num1 =  6\n",
            "num2 =  5\n"
          ]
        }
      ]
    },
    {
      "cell_type": "markdown",
      "source": [
        "### Q4:- Write a program to find the euclidean distance between two coordinates.Take both the coordinates from the user as input."
      ],
      "metadata": {
        "id": "waLCP1bjr7ML"
      }
    },
    {
      "cell_type": "code",
      "source": [
        "# Write your code here\n",
        "import math\n",
        "x1 = int(input(\"Enter the 1st x coordinate\"))\n",
        "x2 = int(input(\"Enter the 2nd x coordinate\"))\n",
        "y1 = int(input(\"Enter the 1st y coordinate\"))\n",
        "y2 = int(input(\"Enter the 2nd y coordinate\"))\n",
        "euclidean_distance = math.sqrt((y2-y1)**2 + (x2-x1)**2)\n",
        "print(\"Euclidean Distance = \", euclidean_distance)"
      ],
      "metadata": {
        "id": "Pl1Sv-xnrxnH",
        "outputId": "99aa1264-1907-41c3-bfc7-e2306bac4f36",
        "colab": {
          "base_uri": "https://localhost:8080/"
        }
      },
      "execution_count": null,
      "outputs": [
        {
          "output_type": "stream",
          "name": "stdout",
          "text": [
            "Enter the 1st x coordinate3\n",
            "Enter the 2nd x coordinate4\n",
            "Enter the 1st y coordinate1\n",
            "Enter the 2nd y coordinate2\n",
            "Euclidean Distance =  1.4142135623730951\n"
          ]
        }
      ]
    },
    {
      "cell_type": "markdown",
      "source": [
        "### Q5:- Write a program to find the simple interest when the value of principle,rate of interest and time period is provided by the user.\n"
      ],
      "metadata": {
        "id": "VLrhg-FRsHjR"
      }
    },
    {
      "cell_type": "code",
      "source": [
        "# Write your code here\n",
        "principle = int(input(\"Enter the principle amount : \"))\n",
        "rate_of_interest = int(input(\"Enter the rate of interest : \"))\n",
        "time_period = int(input(\"Enter the time period : \"))\n",
        "\n",
        "si = principle*rate_of_interest * time_period /100\n",
        "\n",
        "print(\"Simple Interest is \", si)"
      ],
      "metadata": {
        "id": "s40DlReZsTmY",
        "outputId": "72a3e9bd-cf18-4186-b47d-f486232a1277",
        "colab": {
          "base_uri": "https://localhost:8080/"
        }
      },
      "execution_count": null,
      "outputs": [
        {
          "output_type": "stream",
          "name": "stdout",
          "text": [
            "Enter the principle amount : 1000\n",
            "Enter the rate of interest : 10\n",
            "Enter the time period : 3\n",
            "Simple Interest is  300.0\n"
          ]
        }
      ]
    },
    {
      "cell_type": "markdown",
      "source": [
        "### Q6:- Write a program that will tell the number of dogs and chicken are there when the user will provide the value of total heads and legs.\n",
        "\n",
        "For example:\n",
        "Input:\n",
        "heads -> 4\n",
        "legs -> 12\n",
        "<br>\n",
        "Output:\n",
        "dogs -> 2\n",
        "chicken -> 2\n",
        "\n",
        "\n",
        "\n",
        "\n"
      ],
      "metadata": {
        "id": "LMy0BTUktYKa"
      }
    },
    {
      "cell_type": "code",
      "source": [
        "# Write your code here\n",
        "heads = int(input('Heads : '))\n",
        "legs = int(input(\"Legs :\"))\n",
        "\n",
        "chicken  = (4 * heads - legs)/2\n",
        "dogs = (legs - 2* heads)/2\n",
        "\n",
        "print(f\"Number of dogs are {dogs} and number of chickens are {chicken}\")"
      ],
      "metadata": {
        "id": "XSBvJoA4tXaG",
        "outputId": "7cb29193-243b-4f00-b47a-8e4ffa053ed5",
        "colab": {
          "base_uri": "https://localhost:8080/"
        }
      },
      "execution_count": null,
      "outputs": [
        {
          "output_type": "stream",
          "name": "stdout",
          "text": [
            "Heads : 4\n",
            "Legs :12\n",
            "Number of dogs are 2.0 and number of chickens are 2.0\n"
          ]
        }
      ]
    },
    {
      "cell_type": "markdown",
      "source": [
        "### Q7:- Write a program to find the sum of squares of first n natural numbers where n will be provided by the user."
      ],
      "metadata": {
        "id": "gJ7C5kZYt4BP"
      }
    },
    {
      "cell_type": "code",
      "source": [
        "# Write your code here\n",
        "n = int(input(\"enter the number n : \"))\n",
        "sum_of_squares = n*(n+1)*(2*n+1)/6\n",
        "\n",
        "print(f\"Sum of squares of first {n} natural number is {sum_of_squares}\")"
      ],
      "metadata": {
        "id": "_tHsmEHzt2nX",
        "outputId": "7ca68b4f-2eaf-47df-9883-59290dbff23c",
        "colab": {
          "base_uri": "https://localhost:8080/"
        }
      },
      "execution_count": null,
      "outputs": [
        {
          "output_type": "stream",
          "name": "stdout",
          "text": [
            "enter the number n : 5\n",
            "Sum of squares of first 5 natural number is 55.0\n"
          ]
        }
      ]
    },
    {
      "cell_type": "markdown",
      "source": [
        "### Q8:- Given the first 2 terms of an Arithmetic Series.Find the Nth term of the series. Assume all inputs are provided by the user."
      ],
      "metadata": {
        "id": "FHrMM7g-yG1h"
      }
    },
    {
      "cell_type": "code",
      "source": [
        "# Write your code here\n",
        "first = int(input(\"enter the first number: \"))\n",
        "second = int(input(\"Enter the second number: \"))\n",
        "n = int(input(\"Enter the nth number: \"))\n",
        "diff = second - first\n",
        "\n",
        "nth_term = first + (n - 1)* diff\n",
        "\n",
        "print(f'The nth term in this arithematic series is {nth_term}')"
      ],
      "metadata": {
        "id": "go4_kmZmyVSx",
        "outputId": "b929d55c-a96a-44c6-a4ad-8ee6ad8c9cdc",
        "colab": {
          "base_uri": "https://localhost:8080/"
        }
      },
      "execution_count": null,
      "outputs": [
        {
          "output_type": "stream",
          "name": "stdout",
          "text": [
            "enter the first number: 5\n",
            "Enter the second number: 9\n",
            "Enter the nth number: 3\n",
            "The nth term in this arithematic series is 13\n"
          ]
        }
      ]
    },
    {
      "cell_type": "markdown",
      "source": [
        "### Q9:- Given 2 fractions, find the sum of those 2 fractions.Take the numerator and denominator values of the fractions from the user."
      ],
      "metadata": {
        "id": "QgyRX_es1oum"
      }
    },
    {
      "cell_type": "code",
      "source": [
        "# Write your code here\n",
        "n1 = int(input(\"Enter the 1st numerator : \"))\n",
        "d1 = int(input(\"Enter the 1st denominator : \"))\n",
        "n2 = int(input(\"Enter the 2nd numerator : \"))\n",
        "d2 = int(input(\"Enter the 2nd denominator : \"))\n",
        "\n",
        "result_n = n1*d2 + n2*d1\n",
        "result_d = d1 * d2\n",
        "print(f'{result_n}/{result_d} is the resultant fraction')"
      ],
      "metadata": {
        "id": "X05xqFS1yW16",
        "outputId": "22c3a5b4-0224-4f83-e5d7-969caf3cc2b6",
        "colab": {
          "base_uri": "https://localhost:8080/"
        }
      },
      "execution_count": null,
      "outputs": [
        {
          "output_type": "stream",
          "name": "stdout",
          "text": [
            "Enter the 1st numerator : 1\n",
            "Enter the 1st denominator : 2\n",
            "Enter the 2nd numerator : 3\n",
            "Enter the 2nd denominator : 4\n",
            "10/8 is the resultant fraction\n"
          ]
        }
      ]
    },
    {
      "cell_type": "markdown",
      "source": [
        "### Q10:- Given the height, width and breadth of a milk tank, you have to find out how many glasses of milk can be obtained? Assume all the inputs are provided by the user.\n",
        "\n",
        "\n",
        "\n",
        "Input:<br>\n",
        "Dimensions of the milk tank<br>\n",
        "H = 20cm, L = 20cm, B = 20cm\n",
        "<br><br>\n",
        "Dimensions of the glass<br>\n",
        "h = 3cm, r = 1cm"
      ],
      "metadata": {
        "id": "eaql38ln13u7"
      }
    },
    {
      "cell_type": "code",
      "source": [
        "# Write your code here\n",
        "tank_height = int(input(\"Tank Height : \"))\n",
        "tank_length = int(input(\"Tank Length : \"))\n",
        "tank_breadth = int(input(\"Tank Breadth : \"))\n",
        "glass_height = int(input(\"Glass Height : \"))\n",
        "glass_radius = int(input(\"Glass Radius : \"))\n",
        "\n",
        "volume_tank = tank_height * tank_length * tank_breadth\n",
        "volume_glass = 22/7* (glass_radius**2) * glass_height\n",
        "1\n",
        "num_of_glass = volume_tank/volume_glass\n",
        "\n",
        "print(f'Number of glasses that will be obtained is {num_of_glass}')"
      ],
      "metadata": {
        "id": "FePZqno74eWv",
        "outputId": "b0a82ebe-4998-423e-de58-1a1b96d23a4e",
        "colab": {
          "base_uri": "https://localhost:8080/"
        }
      },
      "execution_count": null,
      "outputs": [
        {
          "output_type": "stream",
          "name": "stdout",
          "text": [
            "Tank Height : 10\n",
            "Tank Length : 19\n",
            "Tank Breadth : 10\n",
            "Glass Height : 5\n",
            "Glass Radius : 2\n",
            "Number of glasses that will be obtained is 30.22727272727273\n"
          ]
        }
      ]
    },
    {
      "cell_type": "code",
      "source": [],
      "metadata": {
        "id": "jYSPe4Kppal6"
      },
      "execution_count": null,
      "outputs": []
    }
  ]
}